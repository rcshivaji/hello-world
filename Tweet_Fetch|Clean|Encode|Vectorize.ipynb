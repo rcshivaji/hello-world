{
  "nbformat": 4,
  "nbformat_minor": 0,
  "metadata": {
    "colab": {
      "name": "Tweet_Fetch|Clean|Encode|Vectorize.ipynb",
      "provenance": [],
      "collapsed_sections": [],
      "authorship_tag": "ABX9TyPpDDSCeZ22wIOYOm3OVhwB",
      "include_colab_link": true
    },
    "kernelspec": {
      "name": "python3",
      "display_name": "Python 3"
    }
  },
  "cells": [
    {
      "cell_type": "markdown",
      "metadata": {
        "id": "view-in-github",
        "colab_type": "text"
      },
      "source": [
        "<a href=\"https://colab.research.google.com/github/rcshivaji/hello-world/blob/master/Tweet_Fetch%7CClean%7CEncode%7CVectorize.ipynb\" target=\"_parent\"><img src=\"https://colab.research.google.com/assets/colab-badge.svg\" alt=\"Open In Colab\"/></a>"
      ]
    },
    {
      "cell_type": "markdown",
      "metadata": {
        "id": "f5PgBvhs4TJJ",
        "colab_type": "text"
      },
      "source": [
        "#Importing Libraries"
      ]
    },
    {
      "cell_type": "code",
      "metadata": {
        "id": "e0JcJk4jzgBq",
        "colab_type": "code",
        "colab": {}
      },
      "source": [
        "from keras.layers import Embedding\n",
        "from keras.models import Sequential\n",
        "import keras as K\n",
        "import numpy as np\n",
        "from keras.preprocessing.text import one_hot\n",
        "from keras.preprocessing.sequence import pad_sequences\n",
        "from keras.models import Sequential\n",
        "from keras.layers import Embedding, LSTM\n",
        "from tweepy import API \n",
        "from tweepy import Cursor\n",
        "from tweepy.streaming import StreamListener\n",
        "from tweepy import OAuthHandler\n",
        "from tweepy import Stream\n",
        "from textblob import TextBlob\n",
        "import matplotlib.pyplot as plt\n",
        "import pandas as pd\n",
        "import re"
      ],
      "execution_count": 0,
      "outputs": []
    },
    {
      "cell_type": "markdown",
      "metadata": {
        "id": "woWDYq4U0WrE",
        "colab_type": "text"
      },
      "source": [
        "#TWITTER AUTHENTICATION AND CLEANING CLASS"
      ]
    },
    {
      "cell_type": "code",
      "metadata": {
        "id": "JQhe60nA0veI",
        "colab_type": "code",
        "colab": {}
      },
      "source": [
        "ACCESS_TOKEN = \"2968868438-D3DI4UbBtB1QqUS51mwisuqSJfQy2gQgJQZV2oz\"\n",
        "ACCESS_TOKEN_SECRET = \"yd9skWbmskRUHl5m3EhlC22TFqbnv6uMVj3FAwgbznrmV\"\n",
        "CONSUMER_KEY = \"EQM191aq4lCbOOd3Sd0WT5NfU\"\n",
        "CONSUMER_SECRET = \"cI96K1FRmrh3zt6rEQmM1xvDHv4XCQGQx37fscvUnDhCKPs8ST\""
      ],
      "execution_count": 0,
      "outputs": []
    },
    {
      "cell_type": "code",
      "metadata": {
        "id": "rfF04pqv0dUF",
        "colab_type": "code",
        "colab": {}
      },
      "source": [
        "class TwitterClient():\n",
        "    def __init__(self, twitter_user=None):\n",
        "        self.auth = TwitterAuthenticator().authenticate_twitter_app()\n",
        "        self.twitter_client = API(self.auth)\n",
        "\n",
        "        self.twitter_user = twitter_user\n",
        "\n",
        "    def get_twitter_client_api(self):\n",
        "        return self.twitter_client\n",
        "\n",
        "    def get_user_timeline_tweets(self, num_tweets):\n",
        "        tweets = []\n",
        "        for tweet in Cursor(self.twitter_client.user_timeline, id=self.twitter_user).items(num_tweets):\n",
        "            tweets.append(tweet)\n",
        "        return tweets\n",
        "\n",
        "    def get_friend_list(self, num_friends):\n",
        "        friend_list = []\n",
        "        for friend in Cursor(self.twitter_client.friends, id=self.twitter_user).items(num_friends):\n",
        "            friend_list.append(friend)\n",
        "        return friend_list\n",
        "\n",
        "    def get_home_timeline_tweets(self, num_tweets):\n",
        "        home_timeline_tweets = []\n",
        "        for tweet in Cursor(self.twitter_client.home_timeline, id=self.twitter_user).items(num_tweets):\n",
        "            home_timeline_tweets.append(tweet)\n",
        "        return home_timeline_tweets\n",
        "\n",
        "\n",
        "# # # # TWITTER AUTHENTICATER # # # #\n",
        "class TwitterAuthenticator():\n",
        "\n",
        "    def authenticate_twitter_app(self):\n",
        "        auth = OAuthHandler(CONSUMER_KEY,CONSUMER_SECRET)\n",
        "        auth.set_access_token(ACCESS_TOKEN,ACCESS_TOKEN_SECRET)\n",
        "        return auth\n",
        "\n",
        "# # # # TWITTER STREAMER # # # #\n",
        "class TwitterStreamer():\n",
        "    \"\"\"\n",
        "    Class for streaming and processing live tweets.\n",
        "    \"\"\"\n",
        "    def __init__(self):\n",
        "        self.twitter_autenticator = TwitterAuthenticator()    \n",
        "\n",
        "    def stream_tweets(self, fetched_tweets_filename, hash_tag_list):\n",
        "        # This handles Twitter authetification and the connection to Twitter Streaming API\n",
        "        listener = TwitterListener(fetched_tweets_filename)\n",
        "        auth = self.twitter_autenticator.authenticate_twitter_app() \n",
        "        stream = Stream(auth, listener)\n",
        "\n",
        "        # This line filter Twitter Streams to capture data by the keywords: \n",
        "        stream.filter(track=hash_tag_list)\n",
        "\n",
        "\n",
        "# # # # TWITTER STREAM LISTENER # # # #\n",
        "class TwitterListener(StreamListener):\n",
        "    \"\"\"\n",
        "    This is a basic listener that just prints received tweets to stdout.\n",
        "    \"\"\"\n",
        "    def __init__(self, fetched_tweets_filename):\n",
        "        self.fetched_tweets_filename = fetched_tweets_filename\n",
        "\n",
        "    def on_data(self, data):\n",
        "        try:\n",
        "            print(data)\n",
        "            with open(self.fetched_tweets_filename, 'a') as tf:\n",
        "                tf.write(data)\n",
        "            return True\n",
        "        except BaseException as e:\n",
        "            print(\"Error on_data %s\" % str(e))\n",
        "        return True\n",
        "          \n",
        "    def on_error(self, status):\n",
        "        if status == 420:\n",
        "            # Returning False on_data method in case rate limit occurs.\n",
        "            return False\n",
        "        print(status)\n",
        "\n",
        "\n",
        "class TweetAnalyzer():\n",
        "    \"\"\"\n",
        "    Functionality for analyzing and categorizing content from tweets.\n",
        "    \"\"\"\n",
        "\n",
        "    def clean_tweet(self, tweet):\n",
        "        return ' '.join(re.sub(\"(@[A-Za-z0-9]+)|([^0-9A-Za-z \\t])|(\\w+:\\/\\/\\S+)\", \" \", tweet).split())\n",
        "\n",
        "    def tweets_to_data_frame(self, tweets):\n",
        "        df = pd.DataFrame(data=[tweet.text for tweet in tweets], columns=['tweets'])\n",
        "\n",
        "        df['id'] = np.array([tweet.id for tweet in tweets])\n",
        "        df['len'] = np.array([len(tweet.text) for tweet in tweets])\n",
        "        df['date'] = np.array([tweet.created_at for tweet in tweets])\n",
        "        df['source'] = np.array([tweet.source for tweet in tweets])\n",
        "        df['likes'] = np.array([tweet.favorite_count for tweet in tweets])\n",
        "        df['retweets'] = np.array([tweet.retweet_count for tweet in tweets])\n",
        "\n",
        "        return df\n",
        "    \n",
        "def remove_punct(text):\n",
        "    stp='!\"#$%&\\'()*+,-./:;<=>?@[\\\\]^_`{|}~'\n",
        "    text  = \"\".join([char for char in text if char not in stp])\n",
        "    text = re.sub('[0-9]+', '', text)\n",
        "    text = re.sub('[A-Z]+', '', text)\n",
        "    text = re.sub('[a-z]+', '', text)\n",
        "    return text"
      ],
      "execution_count": 0,
      "outputs": []
    },
    {
      "cell_type": "markdown",
      "metadata": {
        "id": "GorIUuxY1J0F",
        "colab_type": "text"
      },
      "source": [
        "#Tweet Fetching"
      ]
    },
    {
      "cell_type": "code",
      "metadata": {
        "id": "eAuLkaIk1NCG",
        "colab_type": "code",
        "colab": {}
      },
      "source": [
        "twitter_client = TwitterClient()\n",
        "tweet_analyzer = TweetAnalyzer()\n",
        "api = twitter_client.get_twitter_client_api()\n",
        "tweets = api.user_timeline(screen_name=\"aajtak\", count=100)\n",
        "df = tweet_analyzer.tweets_to_data_frame(tweets)\n",
        "df2 = df[['tweets']].copy() \n",
        "df2['tweets'] = df2['tweets'].apply(lambda x: remove_punct(x))"
      ],
      "execution_count": 0,
      "outputs": []
    },
    {
      "cell_type": "markdown",
      "metadata": {
        "id": "VugZpAYI2T6I",
        "colab_type": "text"
      },
      "source": [
        "#Dataframe to List"
      ]
    },
    {
      "cell_type": "code",
      "metadata": {
        "id": "8wgODctF2dfR",
        "colab_type": "code",
        "colab": {}
      },
      "source": [
        "docs=df2['tweets'].values.tolist()"
      ],
      "execution_count": 0,
      "outputs": []
    },
    {
      "cell_type": "markdown",
      "metadata": {
        "id": "oQjh_PNo2rLd",
        "colab_type": "text"
      },
      "source": [
        "#One Hot Encoding"
      ]
    },
    {
      "cell_type": "code",
      "metadata": {
        "id": "dfXlViNM2ufK",
        "colab_type": "code",
        "colab": {
          "base_uri": "https://localhost:8080/",
          "height": 54
        },
        "outputId": "9ef069df-67c5-468d-a5f8-86b72e25d3df"
      },
      "source": [
        "vocab_size = 100\n",
        "\n",
        "encoded_docs = [one_hot(d, vocab_size) for d in docs]\n",
        "print(encoded_docs)"
      ],
      "execution_count": 11,
      "outputs": [
        {
          "output_type": "stream",
          "text": [
            "[[90, 71, 91, 28, 28, 37, 74, 75, 26, 38, 61, 27, 65], [85, 58, 74, 87, 19, 47, 57, 32, 50, 9, 62, 81, 38, 99, 88, 32], [89, 56, 75, 9, 10, 29, 23, 22, 48, 4, 83, 76], [41, 52, 32, 71, 11, 56, 26, 74, 41, 39, 63, 58], [25, 89, 29, 48, 65, 10, 37], [77, 1, 16, 47, 9, 71, 90, 9, 49, 95, 30, 39, 65, 31, 64, 32], [47, 71, 13, 67, 42, 5, 74, 87, 93, 5, 41, 5, 56, 19, 13, 32, 56, 37, 68, 3, 32, 58], [93, 71, 60, 47, 14, 51, 40, 71, 41, 6, 77, 16, 28, 17], [45, 41, 1, 89, 71, 91, 98, 14, 1, 90, 9, 62, 14, 1, 51, 39, 65, 88, 98], [2, 37, 71, 63, 40, 41, 47, 90, 48, 14, 52, 55, 28], [47, 71, 97, 9, 14, 40, 75, 33, 68, 31, 89], [41, 52, 32, 71, 11, 56, 26, 60, 86, 9, 54, 17, 56, 63, 60, 40, 23], [43, 59, 23, 96, 71, 67, 39, 90, 14], [48, 94, 48, 52, 48, 40, 74, 76, 90, 75, 42, 4, 50], [60, 86, 9, 75, 13, 31, 29, 58], [47, 71, 56, 61, 9, 87, 41, 75, 58, 94, 49, 28, 56, 79, 39, 24, 19, 73, 38, 88, 60, 41, 95, 99, 37], [90, 39, 61, 41, 85, 47, 31, 29, 58], [27, 80, 3, 48, 90, 61, 81, 20, 74, 27, 26, 40, 62, 39, 81, 97, 77, 88, 58], [99, 34, 74, 87, 93, 47, 9, 94, 98, 52, 71, 14, 18, 92, 30, 31, 69], [63, 60, 40, 74, 50, 93, 79, 4, 41, 85, 42, 48, 98, 16, 30, 31, 89], [77, 1, 71, 90, 41, 73, 66, 47, 9, 74, 32, 23, 31, 48, 4, 58], [47, 10, 71, 62, 10, 80, 91, 43, 76, 4, 95, 28, 32, 83, 65, 71, 24, 94, 62, 52, 43], [73, 48, 74, 30, 72, 41, 26, 63, 98, 52, 41, 57, 61, 75, 49, 52], [13, 51, 77, 1, 93, 74, 73, 95, 14, 52, 53, 19], [41, 47, 9, 90, 31, 32], [15, 47, 9, 52, 88, 83, 39, 25], [83, 96, 31, 2, 37, 9, 63, 60, 79, 40, 74, 13, 3, 9, 43], [56, 41, 60, 61, 99, 39, 92, 12, 21], [94, 74, 18, 99, 77, 90, 29, 41, 25, 97, 21, 32], [11, 74, 47, 39, 53, 77, 1, 66, 91, 48, 72, 22, 21], [8, 16, 4, 93, 7, 41, 71, 27, 92, 45, 2, 9, 83, 22, 91, 9, 83], [47, 90, 9, 49, 95, 30, 39, 65, 31, 64, 32], [56, 21, 47, 9, 49, 12, 77, 18, 4, 77, 97, 75, 2, 60, 61, 71, 3, 39, 92, 66], [90, 95, 56, 21, 47, 9, 12, 77, 18, 4, 77, 97, 75, 2, 55], [10, 54, 44, 66, 74, 87, 93, 41, 70, 65, 6, 39, 78, 77, 9], [74, 87, 93, 93, 9, 96, 86, 26, 89, 53, 95, 81, 75, 70, 4, 56, 92, 78, 71, 78, 76, 75], [16, 62, 77, 62, 71, 78, 52, 15, 81, 71, 63, 99, 9, 17, 50, 99], [59, 47, 9, 6, 41, 3, 90, 9, 49, 95, 30, 39, 65, 31, 64, 32, 58], [39, 90, 86, 48], [77, 1, 94, 58, 22, 41, 73, 66, 47, 9, 74, 89, 77, 72, 4], [97, 9, 85, 94, 39, 48, 71, 60, 20, 98, 95, 31, 28, 32], [60, 86, 9, 63, 60, 71, 80, 9, 47], [48, 74, 71, 58, 45, 30, 19, 77, 1, 92, 55, 58, 74, 27, 16, 2, 66], [28, 48, 63, 73, 56, 80, 41, 41, 29, 48, 19, 75, 45, 32], [72, 39, 90, 71, 38, 84, 10, 9, 90, 75, 10, 23, 76, 60, 59, 52, 48, 72, 87, 42, 6], [62, 92, 9, 97, 62, 71, 24, 47, 47, 84, 99, 41, 3, 93, 41, 58, 44], [47, 71, 80, 5, 64, 71, 5, 52, 18, 71, 63, 35, 94], [15, 71, 76, 41, 7, 58, 45, 82, 81, 14, 41, 4, 75, 43, 17, 12, 29, 48, 90], [47, 90, 9, 97, 30, 39, 14, 90, 48, 72, 87, 99, 11, 74, 42, 27], [47, 90, 48, 96, 30, 71, 47], [47, 94, 71, 11, 33, 90, 76, 74, 87, 18, 90, 48, 50, 94, 21, 28, 32, 27, 58], [47, 9, 71, 90, 48, 21, 11, 3, 76, 87, 74, 79, 94, 19, 39, 99, 39], [74, 50, 93, 74, 47, 2, 37, 9, 36, 88, 3, 9, 43, 21], [47, 39, 90, 74, 49, 95, 26, 79, 30, 39, 98, 20, 27, 65], [74, 87, 90, 75, 59, 45, 32, 27, 58], [79, 4, 56, 40, 71, 91, 67, 34, 80, 79, 48, 16, 39, 45, 32, 58], [71, 6, 71, 8, 68, 2], [90, 71, 83, 73, 54, 65, 70, 39, 66, 12, 4, 56, 62, 9, 50, 69, 23, 74, 75, 14, 95, 17, 71, 34], [25, 71, 91, 63, 60, 87, 93, 56, 90, 71, 91, 54, 42, 48, 16, 98, 21], [74, 87, 93, 94, 56, 80, 47, 71, 98, 77, 50, 88, 75, 94, 81, 4, 41, 52, 87, 71, 9], [94, 39, 1, 40, 81, 38, 9, 53, 51, 32], [56, 21, 47, 9, 98, 90, 71, 6, 81, 38, 48, 50, 27, 56, 60, 39, 90], [39, 90, 77, 84, 10, 45, 28, 72, 3, 90, 39, 99, 48, 47, 25, 24, 60, 59, 37, 44], [57, 10, 77, 63, 75, 19, 51, 40, 71, 72, 46, 19, 12, 62, 41, 48], [90, 22, 94, 32, 86, 14, 37, 39, 4, 40, 3, 37, 13, 21, 19], [98, 2, 62, 41, 75, 63, 60, 39, 14, 51, 40, 71, 72, 52, 73, 96, 3], [31, 28, 71, 72, 71, 78, 30, 74, 76, 39, 62, 39, 60, 39, 66], [33, 4, 40, 51, 32, 96, 71, 41], [63, 60, 77, 77, 75, 42, 11, 12, 22, 62, 76, 71, 78, 13, 31, 71, 89, 9, 19, 41, 32, 77, 48], [67, 50, 39, 9, 89, 29, 9, 98, 20, 71, 87, 45, 41, 17, 39, 31, 81, 32, 62], [51, 40, 71, 29, 9, 58, 9, 65, 12, 62, 41, 19, 67, 74, 39, 58, 23, 58], [57, 41, 87, 40, 66, 93, 9, 78, 75, 43, 21], [12, 56, 72, 50, 26, 91, 43, 13, 72, 17, 95, 25, 32], [47, 90, 48, 27, 74, 55, 58, 9, 56, 8, 39], [73, 48, 74, 79, 10, 71, 41, 39, 32, 4], [40, 10, 71, 45, 47, 9, 90, 39, 65], [93, 41, 47, 83, 20, 39, 27], [43, 41, 77, 97, 39, 59, 94, 31, 45, 32], [3, 41, 51, 22, 39, 78, 48, 39, 57], [47, 9, 92, 55, 39, 60, 71, 78, 25, 10, 56, 31, 76, 82, 28, 4], [62, 9, 93, 56, 90, 70, 71, 60, 95, 65, 71, 6, 90, 9, 19, 23, 81, 56, 33, 84, 75, 24], [58], [61, 56, 71, 99, 1, 36, 4, 50, 78, 23, 2, 7, 9, 23, 2, 7, 37, 97, 71, 78, 41, 4, 58], [68, 41, 92, 38, 17, 47, 94, 71, 81, 77, 61, 12, 64, 14, 12, 71, 28, 90, 38, 90], [79, 97, 74, 48, 52, 53], [89, 49, 62, 95, 83, 51], [88, 41, 63, 45, 93, 43, 39, 96], [41, 52, 71, 19, 83, 82, 41, 67, 74, 25, 9, 34, 93, 27, 9, 71, 29, 10, 73, 63], [53, 12, 98, 71, 76, 72, 76, 74, 25, 86, 48, 72, 22], [47, 90, 48, 45, 85, 14], [97, 9, 34, 53, 95, 41, 9, 99, 65, 59, 9, 30, 39, 59, 31, 5, 32], [47, 71, 80, 5, 64, 71, 5, 52, 18, 71, 63, 35, 60, 32, 45, 61, 77, 17, 71, 2], [10, 9, 73, 53, 71, 60, 71, 15, 62, 59, 4, 9, 98, 77, 94, 19, 39, 34, 75, 9, 96, 85], [9, 23, 13], [47, 9, 62, 31, 72, 17, 32, 92, 94, 41, 39, 99, 34, 38, 4, 47, 75, 95, 58], [47, 90, 39, 65, 95, 12, 9, 45, 16, 75, 11, 97, 60, 35], [39, 3, 62, 56, 20, 43, 93, 75, 72, 33, 9, 4, 65], [93, 41, 49, 41, 7, 13, 21, 44, 82, 48, 17, 48, 24, 40, 75, 69, 32, 45, 71], [47, 9, 71, 90, 71, 60, 99, 34, 25, 86, 85, 71, 42, 48, 4], [86, 75, 74, 59, 56, 77, 66, 22]]\n"
          ],
          "name": "stdout"
        }
      ]
    },
    {
      "cell_type": "markdown",
      "metadata": {
        "id": "CaFLhtY33vkv",
        "colab_type": "text"
      },
      "source": [
        "#Word2Vec"
      ]
    },
    {
      "cell_type": "code",
      "metadata": {
        "id": "uBb9qT0p3zKp",
        "colab_type": "code",
        "colab": {
          "base_uri": "https://localhost:8080/",
          "height": 136
        },
        "outputId": "af51c857-a7a6-455d-e781-14c1eb83d670"
      },
      "source": [
        "embedding_length = 5\n",
        "max_doc_len = 25\n",
        "\n",
        "encoded_docs = pad_sequences(encoded_docs, truncating='post', padding='post', maxlen=max_doc_len)\n",
        "\n",
        "print(encoded_docs)"
      ],
      "execution_count": 13,
      "outputs": [
        {
          "output_type": "stream",
          "text": [
            "[[90 71 91 ...  0  0  0]\n",
            " [85 58 74 ...  0  0  0]\n",
            " [89 56 75 ...  0  0  0]\n",
            " ...\n",
            " [93 41 49 ...  0  0  0]\n",
            " [47  9 71 ...  0  0  0]\n",
            " [86 75 74 ...  0  0  0]]\n"
          ],
          "name": "stdout"
        }
      ]
    },
    {
      "cell_type": "code",
      "metadata": {
        "id": "As1u7Ipg4ECF",
        "colab_type": "code",
        "colab": {
          "base_uri": "https://localhost:8080/",
          "height": 1000
        },
        "outputId": "d8862350-b38f-4b14-c006-6a821bc11bab"
      },
      "source": [
        "model = Sequential()\n",
        "model.add(Embedding(vocab_size, embedding_length, input_length=max_doc_len))\n",
        "model.compile('rmsprop', 'mse')\n",
        "output = model.predict(encoded_docs)\n",
        "print(output)"
      ],
      "execution_count": 14,
      "outputs": [
        {
          "output_type": "stream",
          "text": [
            "WARNING:tensorflow:From /usr/local/lib/python3.6/dist-packages/keras/backend/tensorflow_backend.py:66: The name tf.get_default_graph is deprecated. Please use tf.compat.v1.get_default_graph instead.\n",
            "\n",
            "WARNING:tensorflow:From /usr/local/lib/python3.6/dist-packages/keras/backend/tensorflow_backend.py:541: The name tf.placeholder is deprecated. Please use tf.compat.v1.placeholder instead.\n",
            "\n",
            "WARNING:tensorflow:From /usr/local/lib/python3.6/dist-packages/keras/backend/tensorflow_backend.py:4432: The name tf.random_uniform is deprecated. Please use tf.random.uniform instead.\n",
            "\n",
            "WARNING:tensorflow:From /usr/local/lib/python3.6/dist-packages/keras/optimizers.py:793: The name tf.train.Optimizer is deprecated. Please use tf.compat.v1.train.Optimizer instead.\n",
            "\n",
            "WARNING:tensorflow:From /usr/local/lib/python3.6/dist-packages/keras/backend/tensorflow_backend.py:3005: The name tf.Session is deprecated. Please use tf.compat.v1.Session instead.\n",
            "\n",
            "WARNING:tensorflow:From /usr/local/lib/python3.6/dist-packages/keras/backend/tensorflow_backend.py:190: The name tf.get_default_session is deprecated. Please use tf.compat.v1.get_default_session instead.\n",
            "\n",
            "WARNING:tensorflow:From /usr/local/lib/python3.6/dist-packages/keras/backend/tensorflow_backend.py:197: The name tf.ConfigProto is deprecated. Please use tf.compat.v1.ConfigProto instead.\n",
            "\n",
            "WARNING:tensorflow:From /usr/local/lib/python3.6/dist-packages/keras/backend/tensorflow_backend.py:207: The name tf.global_variables is deprecated. Please use tf.compat.v1.global_variables instead.\n",
            "\n",
            "WARNING:tensorflow:From /usr/local/lib/python3.6/dist-packages/keras/backend/tensorflow_backend.py:216: The name tf.is_variable_initialized is deprecated. Please use tf.compat.v1.is_variable_initialized instead.\n",
            "\n",
            "WARNING:tensorflow:From /usr/local/lib/python3.6/dist-packages/keras/backend/tensorflow_backend.py:223: The name tf.variables_initializer is deprecated. Please use tf.compat.v1.variables_initializer instead.\n",
            "\n",
            "[[[ 0.02963746  0.00740267 -0.0124017   0.03801087 -0.01191514]\n",
            "  [-0.02571554 -0.00575656  0.01095574 -0.03373845 -0.00849838]\n",
            "  [ 0.013885    0.02403799 -0.00815298 -0.01298523 -0.01826804]\n",
            "  ...\n",
            "  [-0.02928478 -0.02179407  0.04947067  0.02874852  0.04958094]\n",
            "  [-0.02928478 -0.02179407  0.04947067  0.02874852  0.04958094]\n",
            "  [-0.02928478 -0.02179407  0.04947067  0.02874852  0.04958094]]\n",
            "\n",
            " [[-0.01395679 -0.00754518 -0.03229846  0.01345373  0.03898514]\n",
            "  [ 0.00929401 -0.00245354 -0.04599508  0.03861643 -0.00033432]\n",
            "  [-0.04235762 -0.03018929  0.02799929 -0.01558506 -0.04126792]\n",
            "  ...\n",
            "  [-0.02928478 -0.02179407  0.04947067  0.02874852  0.04958094]\n",
            "  [-0.02928478 -0.02179407  0.04947067  0.02874852  0.04958094]\n",
            "  [-0.02928478 -0.02179407  0.04947067  0.02874852  0.04958094]]\n",
            "\n",
            " [[ 0.01739441  0.02108803  0.01516994 -0.03057354  0.04203427]\n",
            "  [ 0.02304814  0.01143237  0.03046841 -0.03755448  0.04999662]\n",
            "  [-0.02362751  0.01549535 -0.01419044  0.044556   -0.00540794]\n",
            "  ...\n",
            "  [-0.02928478 -0.02179407  0.04947067  0.02874852  0.04958094]\n",
            "  [-0.02928478 -0.02179407  0.04947067  0.02874852  0.04958094]\n",
            "  [-0.02928478 -0.02179407  0.04947067  0.02874852  0.04958094]]\n",
            "\n",
            " ...\n",
            "\n",
            " [[ 0.02070777 -0.03004459  0.04385102 -0.00671346  0.01248615]\n",
            "  [ 0.04233349 -0.04551911  0.03792325  0.01685976  0.03172579]\n",
            "  [-0.01453211  0.01775265 -0.04548858 -0.02147701 -0.01747805]\n",
            "  ...\n",
            "  [-0.02928478 -0.02179407  0.04947067  0.02874852  0.04958094]\n",
            "  [-0.02928478 -0.02179407  0.04947067  0.02874852  0.04958094]\n",
            "  [-0.02928478 -0.02179407  0.04947067  0.02874852  0.04958094]]\n",
            "\n",
            " [[-0.03064259  0.03690143 -0.00251459  0.00848991  0.00594192]\n",
            "  [ 0.01106457 -0.00403299  0.04092256 -0.04179814 -0.02262666]\n",
            "  [-0.02571554 -0.00575656  0.01095574 -0.03373845 -0.00849838]\n",
            "  ...\n",
            "  [-0.02928478 -0.02179407  0.04947067  0.02874852  0.04958094]\n",
            "  [-0.02928478 -0.02179407  0.04947067  0.02874852  0.04958094]\n",
            "  [-0.02928478 -0.02179407  0.04947067  0.02874852  0.04958094]]\n",
            "\n",
            " [[ 0.00986891 -0.03079891  0.04727839  0.02520296 -0.01482642]\n",
            "  [-0.02362751  0.01549535 -0.01419044  0.044556   -0.00540794]\n",
            "  [-0.04235762 -0.03018929  0.02799929 -0.01558506 -0.04126792]\n",
            "  ...\n",
            "  [-0.02928478 -0.02179407  0.04947067  0.02874852  0.04958094]\n",
            "  [-0.02928478 -0.02179407  0.04947067  0.02874852  0.04958094]\n",
            "  [-0.02928478 -0.02179407  0.04947067  0.02874852  0.04958094]]]\n"
          ],
          "name": "stdout"
        }
      ]
    }
  ]
}