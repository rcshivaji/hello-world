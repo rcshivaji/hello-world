{
  "nbformat": 4,
  "nbformat_minor": 0,
  "metadata": {
    "colab": {
      "name": "encoding_vectorization.ipynb",
      "provenance": [],
      "collapsed_sections": [],
      "authorship_tag": "ABX9TyOfbAY1Qo29eKrmpuQsAelw",
      "include_colab_link": true
    },
    "kernelspec": {
      "name": "python3",
      "display_name": "Python 3"
    }
  },
  "cells": [
    {
      "cell_type": "markdown",
      "metadata": {
        "id": "view-in-github",
        "colab_type": "text"
      },
      "source": [
        "<a href=\"https://colab.research.google.com/github/rcshivaji/hello-world/blob/master/encoding_vectorization.ipynb\" target=\"_parent\"><img src=\"https://colab.research.google.com/assets/colab-badge.svg\" alt=\"Open In Colab\"/></a>"
      ]
    },
    {
      "cell_type": "code",
      "metadata": {
        "id": "3SgqRMgUiTYt",
        "colab_type": "code",
        "colab": {}
      },
      "source": [
        "from keras.layers import Embedding\n",
        "from keras.models import Sequential\n",
        "import keras as K\n",
        "import numpy as np"
      ],
      "execution_count": 0,
      "outputs": []
    },
    {
      "cell_type": "code",
      "metadata": {
        "id": "MGNXw6hwih47",
        "colab_type": "code",
        "colab": {}
      },
      "source": [
        "from keras.preprocessing.text import one_hot"
      ],
      "execution_count": 0,
      "outputs": []
    },
    {
      "cell_type": "code",
      "metadata": {
        "id": "fC8EzfNxiw1v",
        "colab_type": "code",
        "colab": {}
      },
      "source": [
        "docs = ['मोदी-ट्रम्प हैं तो मुमकिन है! देखिये',\n",
        "        'दिल्ली हिंसा में अबतक 10 लोगों की मौत....देखिए हिंसा पर क्या कहा बीजेपी प्रवक्ता राजनीतिक विश्लेषक ',\n",
        "        'दिल्ली पुलिस के प्रवक्ता एम एस रंधावा ने कहा- फिलहाल हिंसा पर काबू पा लिया गया है लाइव',\n",
        "        'भारत के करीब 6.6 करोड़ बच्चे रोज वेब की खाक छानते हैं और ऐसे में वे बढ़ते पोर्नोग्राफी बाजार का शिकार बन जाने के जोखिम ',\n",
        "        'भारतीय नृत्यकला को अमेरिकी प्रथम महिला मेलानिया ट्रंप के सामने प्रदर्शित करने वाले बच्चों से बातचीत',\n",
        "        'अमेरिकी राष्ट्रपति  को ताज का दीदार कराने वाले गाइड नितिन सिंह के लिए ये पूरा मौका काफी ख़ास था']"
      ],
      "execution_count": 0,
      "outputs": []
    },
    {
      "cell_type": "code",
      "metadata": {
        "id": "U0mBr87Ci4Di",
        "colab_type": "code",
        "colab": {
          "base_uri": "https://localhost:8080/",
          "height": 54
        },
        "outputId": "fd21dbc9-b6fa-42c2-f905-1238b0c935df"
      },
      "source": [
        "vocab_size = 100\n",
        "\n",
        "encoded_docs = [one_hot(d, vocab_size) for d in docs]\n",
        "print(encoded_docs)"
      ],
      "execution_count": 12,
      "outputs": [
        {
          "output_type": "stream",
          "text": [
            "[[97, 82, 75, 35, 5, 86, 34], [50, 71, 87, 53, 98, 86, 59, 91, 6, 71, 63, 58, 66, 61, 13, 47, 87], [50, 78, 7, 13, 42, 24, 48, 83, 66, 6, 71, 63, 40, 91, 15, 8, 86, 94], [72, 7, 95, 39, 39, 86, 83, 13, 65, 59, 54, 19, 75, 98, 54, 87, 34, 30, 29, 8, 94, 36, 44, 97, 7, 32], [28, 4, 71, 16, 33, 98, 60, 53, 7, 10, 80, 17, 90, 19, 75, 56], [16, 61, 71, 20, 94, 19, 34, 90, 4, 85, 47, 7, 58, 21, 8, 69, 16, 40, 55]]\n"
          ],
          "name": "stdout"
        }
      ]
    },
    {
      "cell_type": "code",
      "metadata": {
        "id": "RO_Uy4Kyi8bl",
        "colab_type": "code",
        "colab": {
          "base_uri": "https://localhost:8080/",
          "height": 119
        },
        "outputId": "6e25344f-6b53-48ea-b26b-000b0502b4d6"
      },
      "source": [
        "from keras.preprocessing.sequence import pad_sequences\n",
        "from keras.models import Sequential\n",
        "from keras.layers import Embedding, LSTM\n",
        "\n",
        "import numpy as np\n",
        "\n",
        "embedding_length = 5\n",
        "max_doc_len = 10\n",
        "\n",
        "encoded_docs = pad_sequences(encoded_docs, truncating='post', padding='post', maxlen=max_doc_len)\n",
        "\n",
        "print(encoded_docs)"
      ],
      "execution_count": 13,
      "outputs": [
        {
          "output_type": "stream",
          "text": [
            "[[97 82 75 35  5 86 34  0  0  0]\n",
            " [50 71 87 53 98 86 59 91  6 71]\n",
            " [50 78  7 13 42 24 48 83 66  6]\n",
            " [72  7 95 39 39 86 83 13 65 59]\n",
            " [28  4 71 16 33 98 60 53  7 10]\n",
            " [16 61 71 20 94 19 34 90  4 85]]\n"
          ],
          "name": "stdout"
        }
      ]
    }
  ]
}